{
 "cells": [
  {
   "cell_type": "code",
   "execution_count": 45,
   "id": "4ae50727-fca7-47e9-b3dc-c9ce572a6cf2",
   "metadata": {},
   "outputs": [],
   "source": [
    "import torch\n",
    "import random\n",
    "import numpy as np\n",
    "import matplotlib.pyplot as plt\n",
    "from itertools import chain\n",
    "from collections import Counter"
   ]
  },
  {
   "cell_type": "code",
   "execution_count": 52,
   "id": "50e90f74-9edd-4f73-bf4e-d45515a5b348",
   "metadata": {},
   "outputs": [],
   "source": [
    "class Blackjack:\n",
    "    def __init__(self):\n",
    "        self.reset()\n",
    "\n",
    "            \n",
    "    def reset(self):\n",
    "        self.deck = 4 * (list(range(2, 12)) + [10, 10, 10])\n",
    "        self.shoe = 8 * self.deck\n",
    "        random.shuffle(self.shoe)\n",
    "\n",
    "        self.policy = None\n",
    "        self.value = None\n",
    "\n",
    "        self.running_count = 0.\n",
    "\n",
    "\n",
    "    def get_true_count(self):\n",
    "        \"\"\"returns the true count exactly based on the running count and length of the shoe\"\"\"\n",
    "        return round(self.running_count / round(len(self.shoe) / 52))\n",
    "\n",
    "\n",
    "    def deal_card(self, hidden = False):\n",
    "        card = self.shoe.pop(0)\n",
    "\n",
    "        if not hidden:\n",
    "            self.unhide(card)\n",
    "    \n",
    "        return card\n",
    "\n",
    "    def unhide(self, card):\n",
    "        if card <= 6:\n",
    "            self.running_count += 1\n",
    "        elif card >= 10:\n",
    "            self.running_count -= 1\n",
    "\n",
    "\n",
    "    def do_game(self, eval):\n",
    "\n",
    "        count_list = [self.get_true_count()]\n",
    "        \n",
    "        while len(self.shoe) > 60:\n",
    "\n",
    "            c = self.deal_card()\n",
    "\n",
    "            tc = self.get_true_count()\n",
    "            count_list.append(tc)\n",
    "\n",
    "        return count_list\n",
    "\n",
    "\n",
    "    def do_games(self, n_games, eval = False):\n",
    "\n",
    "        winnings = []\n",
    "        \n",
    "        for n in range(n_games):\n",
    "            self.reset() # reset everything\n",
    "            \n",
    "            w = self.do_game(eval)\n",
    "            winnings.append(w)\n",
    "\n",
    "        return winnings\n",
    "        "
   ]
  },
  {
   "cell_type": "code",
   "execution_count": 53,
   "id": "58fca4b2-ad4d-4de0-b51a-de73a38828fa",
   "metadata": {},
   "outputs": [],
   "source": [
    "bj = Blackjack()\n",
    "w = bj.do_games(2000)"
   ]
  },
  {
   "cell_type": "code",
   "execution_count": 54,
   "id": "3e99cb64-6129-43bc-ba03-4efad51123ca",
   "metadata": {},
   "outputs": [],
   "source": [
    "w_flat = [x for xs in w for x in xs]"
   ]
  },
  {
   "cell_type": "code",
   "execution_count": 55,
   "id": "b3a14f53-8a15-49fe-8329-c655cc9a492f",
   "metadata": {},
   "outputs": [
    {
     "data": {
      "text/plain": [
       "(array([1.00000e+00, 5.00000e+00, 3.00000e+00, 3.00000e+00, 5.00000e+00,\n",
       "        4.00000e+00, 8.00000e+00, 2.40000e+01, 6.80000e+01, 1.17000e+02,\n",
       "        1.52000e+02, 2.19000e+02, 3.43000e+02, 4.28000e+02, 7.19000e+02,\n",
       "        7.47000e+02, 1.38300e+03, 1.38300e+03, 3.62300e+03, 3.52600e+03,\n",
       "        9.71900e+03, 9.43100e+03, 2.55780e+04, 2.77580e+04, 7.10440e+04,\n",
       "        1.01803e+05, 2.06831e+05, 9.71480e+04, 7.05500e+04, 2.75150e+04,\n",
       "        2.36890e+04, 8.87500e+03, 9.39300e+03, 3.20400e+03, 3.60700e+03,\n",
       "        1.43600e+03, 1.28300e+03, 6.37000e+02, 6.19000e+02, 3.43000e+02,\n",
       "        2.72000e+02, 1.33000e+02, 1.07000e+02, 8.30000e+01, 6.40000e+01,\n",
       "        3.60000e+01, 1.90000e+01, 1.40000e+01, 1.70000e+01, 1.20000e+01,\n",
       "        9.00000e+00, 1.00000e+01]),\n",
       " array([-26., -25., -24., -23., -22., -21., -20., -19., -18., -17., -16.,\n",
       "        -15., -14., -13., -12., -11., -10.,  -9.,  -8.,  -7.,  -6.,  -5.,\n",
       "         -4.,  -3.,  -2.,  -1.,   0.,   1.,   2.,   3.,   4.,   5.,   6.,\n",
       "          7.,   8.,   9.,  10.,  11.,  12.,  13.,  14.,  15.,  16.,  17.,\n",
       "         18.,  19.,  20.,  21.,  22.,  23.,  24.,  25.,  26.]),\n",
       " <BarContainer object of 52 artists>)"
      ]
     },
     "execution_count": 55,
     "metadata": {},
     "output_type": "execute_result"
    },
    {
     "data": {
      "image/png": "[encoded data removed]",
      "text/plain": [
       "<Figure size 640x480 with 1 Axes>"
      ]
     },
     "metadata": {},
     "output_type": "display_data"
    }
   ],
   "source": [
    "plt.hist(w_flat, bins = max(w_flat) - min(w_flat))"
   ]
  },
  {
   "cell_type": "code",
   "execution_count": 56,
   "id": "62bfdf07-ff31-4f9e-9bce-34e7c8926193",
   "metadata": {},
   "outputs": [],
   "source": [
    "w_flat_np = np.array(w_flat)"
   ]
  },
  {
   "cell_type": "code",
   "execution_count": 59,
   "id": "77320af7-08d0-42a0-9d0e-3bc28d3c2a49",
   "metadata": {},
   "outputs": [
    {
     "data": {
      "text/plain": [
       "(-4.0, 4.0)"
      ]
     },
     "execution_count": 59,
     "metadata": {},
     "output_type": "execute_result"
    }
   ],
   "source": [
    "i = 5\n",
    "np.percentile(w_flat_np, i), np.percentile(w_flat_np, 100 - i) \n",
    "# so -4 to 4 covers 90%, -6 to 6 covers 95% of what we'll see, -10 to 10 covers 99%"
   ]
  },
  {
   "cell_type": "code",
   "execution_count": null,
   "id": "a77c45bb-e969-4f68-a941-becc0adb6264",
   "metadata": {},
   "outputs": [],
   "source": []
  },
  {
   "cell_type": "code",
   "execution_count": null,
   "id": "5ce9e1fc-4d95-4ade-a11e-4fe28678b9fa",
   "metadata": {},
   "outputs": [],
   "source": []
  }
 ],
 "metadata": {
  "kernelspec": {
   "display_name": "Python 3 (ipykernel)",
   "language": "python",
   "name": "python3"
  },
  "language_info": {
   "codemirror_mode": {
    "name": "ipython",
    "version": 3
   },
   "file_extension": ".py",
   "mimetype": "text/x-python",
   "name": "python",
   "nbconvert_exporter": "python",
   "pygments_lexer": "ipython3",
   "version": "3.8.18"
  }
 },
 "nbformat": 4,
 "nbformat_minor": 5
}
